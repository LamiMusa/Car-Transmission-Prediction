{
  "nbformat": 4,
  "nbformat_minor": 0,
  "metadata": {
    "colab": {
      "provenance": [],
      "mount_file_id": "1YlCzJoohBkZd_i7PCCp_DRnIj2NMtdzr",
      "authorship_tag": "ABX9TyNm5NGxTBUiR9WQole41MVQ",
      "include_colab_link": true
    },
    "kernelspec": {
      "name": "python3",
      "display_name": "Python 3"
    },
    "language_info": {
      "name": "python"
    }
  },
  "cells": [
    {
      "cell_type": "markdown",
      "metadata": {
        "id": "view-in-github",
        "colab_type": "text"
      },
      "source": [
        "<a href=\"https://colab.research.google.com/github/LamiMusa/Car-Transmission-Prediction/blob/main/Car-Transmission-Prediction.ipynb\" target=\"_parent\"><img src=\"https://colab.research.google.com/assets/colab-badge.svg\" alt=\"Open In Colab\"/></a>"
      ]
    },
    {
      "cell_type": "code",
      "execution_count": null,
      "metadata": {
        "id": "oF78AUxG3tXZ",
        "colab": {
          "base_uri": "https://localhost:8080/"
        },
        "outputId": "fdec49a1-fe57-499b-f8f8-c84d134e7bc0"
      },
      "outputs": [
        {
          "output_type": "stream",
          "name": "stdout",
          "text": [
            "\u001b[2K     \u001b[90m━━━━━━━━━━━━━━━━━━━━━━━━━━━━━━━━━━━━━━━\u001b[0m \u001b[32m310.8/310.8 MB\u001b[0m \u001b[31m4.5 MB/s\u001b[0m eta \u001b[36m0:00:00\u001b[0m\n",
            "\u001b[?25h  Preparing metadata (setup.py) ... \u001b[?25l\u001b[?25hdone\n",
            "  Building wheel for pyspark (setup.py) ... \u001b[?25l\u001b[?25hdone\n"
          ]
        }
      ],
      "source": [
        "!pip install -q pyspark"
      ]
    },
    {
      "cell_type": "code",
      "source": [
        "from pyspark.sql import SparkSession\n",
        "spark = SparkSession.builder.getOrCreate()"
      ],
      "metadata": {
        "id": "YYB94fzF3y3u"
      },
      "execution_count": null,
      "outputs": []
    },
    {
      "cell_type": "code",
      "source": [
        "!ls drive/MyDrive/DataCollection/ukcars.zip"
      ],
      "metadata": {
        "colab": {
          "base_uri": "https://localhost:8080/"
        },
        "id": "wJpq9ktHJ_RQ",
        "outputId": "6bc6090f-52a8-48a6-f72f-fb4e8029b6c7"
      },
      "execution_count": null,
      "outputs": [
        {
          "output_type": "stream",
          "name": "stdout",
          "text": [
            "drive/MyDrive/DataCollection/ukcars.zip\n"
          ]
        }
      ]
    },
    {
      "cell_type": "code",
      "source": [
        "!unzip -q drive/MyDrive/DataCollection/ukcars.zip -d sample_data/uk_cars"
      ],
      "metadata": {
        "id": "63cHQOah31qQ"
      },
      "execution_count": null,
      "outputs": []
    },
    {
      "cell_type": "code",
      "source": [
        "!ls sample_data/uk_cars"
      ],
      "metadata": {
        "colab": {
          "base_uri": "https://localhost:8080/"
        },
        "id": "c-htXRJj72ET",
        "outputId": "707e22b6-8e51-4fa7-8047-fd76424b7800"
      },
      "execution_count": null,
      "outputs": [
        {
          "output_type": "stream",
          "name": "stdout",
          "text": [
            " audi.csv     focus.csv    merc.csv    'unclean cclass.csv'   vw.csv\n",
            " bmw.csv      ford.csv\t   skoda.csv   'unclean focus.csv'\n",
            " cclass.csv   hyundi.csv   toyota.csv   vauxhall.csv\n"
          ]
        }
      ]
    },
    {
      "cell_type": "code",
      "source": [
        "from pyspark.sql.types import *\n",
        "\n",
        "file_location = \"/content/sample_data/uk_cars/*.csv\"\n",
        "carSchema = StructType([\n",
        "    StructField(\"model\", StringType(), False),\n",
        "    StructField(\"Year\", DoubleType(), False),\n",
        "    StructField(\"Price\", DoubleType(), False),\n",
        "    StructField(\"Transmission\", StringType(), False),\n",
        "    StructField(\"Mileage\", DoubleType(), False),\n",
        "    StructField(\"Fueltype\", StringType(), False),\n",
        "    StructField(\"Tax\", DoubleType(), False),\n",
        "    StructField(\"mpg\", DoubleType(), False),\n",
        "    StructField(\"Engine Size\", DoubleType(), False)\n",
        "])\n",
        "\n",
        "data= spark.read.schema(carSchema).csv(file_location, header=True)\n",
        "\n",
        "\n",
        "data.show()"
      ],
      "metadata": {
        "colab": {
          "base_uri": "https://localhost:8080/"
        },
        "id": "XWRk3iUD8Cxd",
        "outputId": "5d0c804f-d390-4d97-ebc4-03e4d72662de"
      },
      "execution_count": null,
      "outputs": [
        {
          "output_type": "stream",
          "name": "stdout",
          "text": [
            "+---------+------+-------+------------+-------+--------+-----+----+-----------+\n",
            "|    model|  Year|  Price|Transmission|Mileage|Fueltype|  Tax| mpg|Engine Size|\n",
            "+---------+------+-------+------------+-------+--------+-----+----+-----------+\n",
            "|   Fiesta|2017.0|12000.0|   Automatic|15944.0|  Petrol|150.0|57.7|        1.0|\n",
            "|    Focus|2018.0|14000.0|      Manual| 9083.0|  Petrol|150.0|57.7|        1.0|\n",
            "|    Focus|2017.0|13000.0|      Manual|12456.0|  Petrol|150.0|57.7|        1.0|\n",
            "|   Fiesta|2019.0|17500.0|      Manual|10460.0|  Petrol|145.0|40.3|        1.5|\n",
            "|   Fiesta|2019.0|16500.0|   Automatic| 1482.0|  Petrol|145.0|48.7|        1.0|\n",
            "|   Fiesta|2015.0|10500.0|      Manual|35432.0|  Petrol|145.0|47.9|        1.6|\n",
            "|     Puma|2019.0|22500.0|      Manual| 2029.0|  Petrol|145.0|50.4|        1.0|\n",
            "|   Fiesta|2017.0| 9000.0|      Manual|13054.0|  Petrol|145.0|54.3|        1.2|\n",
            "|     Kuga|2019.0|25500.0|   Automatic| 6894.0|  Diesel|145.0|42.2|        2.0|\n",
            "|    Focus|2018.0|10000.0|      Manual|48141.0|  Petrol|145.0|61.4|        1.0|\n",
            "|   Fiesta|2018.0|11561.0|      Manual|18803.0|  Petrol|145.0|56.5|        1.0|\n",
            "| EcoSport|2018.0|13500.0|      Manual|12065.0|  Petrol|145.0|54.3|        1.0|\n",
            "|   Fiesta|2017.0|11000.0|      Manual|20978.0|  Petrol|  0.0|65.7|        1.0|\n",
            "|     Kuga|2018.0|17999.0|   Semi-Auto| 9002.0|  Diesel|145.0|54.3|        2.0|\n",
            "|     Kuga|2018.0|18999.0|   Semi-Auto| 8970.0|  Diesel|145.0|58.9|        1.5|\n",
            "|     Kuga|2018.0|14399.0|      Manual|12810.0|  Diesel|145.0|64.2|        1.5|\n",
            "|     Kuga|2019.0|17999.0|      Manual|10428.0|  Diesel|145.0|38.2|        2.0|\n",
            "|     Kuga|2018.0|16899.0|      Manual|14680.0|  Diesel|145.0|54.3|        2.0|\n",
            "|   Fiesta|2017.0|10999.0|      Manual|12427.0|  Petrol| 20.0|62.8|        1.0|\n",
            "|   Fiesta|2019.0|12500.0|      Manual|25521.0|  Petrol|145.0|55.4|        1.0|\n",
            "+---------+------+-------+------------+-------+--------+-----+----+-----------+\n",
            "only showing top 20 rows\n",
            "\n"
          ]
        }
      ]
    },
    {
      "cell_type": "code",
      "source": [
        "from pyspark.sql.functions import count, col, when\n",
        "nullCount = (data.select([count(when(col(c).isNull(),  c)).alias(c) for c in data.columns])).show()"
      ],
      "metadata": {
        "colab": {
          "base_uri": "https://localhost:8080/"
        },
        "id": "24sIPG1dNLxj",
        "outputId": "55bc606c-1017-41bd-db13-bd62cf8d3eca"
      },
      "execution_count": null,
      "outputs": [
        {
          "output_type": "stream",
          "name": "stdout",
          "text": [
            "+-----+----+-----+------------+-------+--------+----+-----+-----------+\n",
            "|model|Year|Price|Transmission|Mileage|Fueltype| Tax|  mpg|Engine Size|\n",
            "+-----+----+-----+------------+-------+--------+----+-----+-----------+\n",
            "|  155| 247| 9610|         155|   9372|     155|8694|10443|      18963|\n",
            "+-----+----+-----+------------+-------+--------+----+-----+-----------+\n",
            "\n"
          ]
        }
      ]
    },
    {
      "cell_type": "code",
      "source": [
        "data = data.dropna(\"any\")\n",
        "nullCount = (data.select([count(when(col(c).isNull(),  c)).alias(c) for c in data.columns])).show()"
      ],
      "metadata": {
        "id": "LYI_8xUAMVHl"
      },
      "execution_count": null,
      "outputs": []
    },
    {
      "cell_type": "code",
      "source": [
        "data.groupBy('Transmission').count().show()"
      ],
      "metadata": {
        "colab": {
          "base_uri": "https://localhost:8080/"
        },
        "id": "ZGELUlIzEuXN",
        "outputId": "0f1f6a19-2a30-4766-c846-a2aee5b7616b"
      },
      "execution_count": null,
      "outputs": [
        {
          "output_type": "stream",
          "name": "stdout",
          "text": [
            "+------------+-----+\n",
            "|Transmission|count|\n",
            "+------------+-----+\n",
            "|   Semi-Auto|22677|\n",
            "|   Automatic|20056|\n",
            "|       Other|    9|\n",
            "|      Manual|56445|\n",
            "+------------+-----+\n",
            "\n"
          ]
        }
      ]
    },
    {
      "cell_type": "code",
      "source": [
        "from pyspark.ml.classification import DecisionTreeClassifier\n",
        "from pyspark.ml.evaluation import MulticlassClassificationEvaluator\n",
        "from pyspark.ml.feature import StringIndexer, VectorAssembler"
      ],
      "metadata": {
        "id": "yvQb9zchBYdB"
      },
      "execution_count": null,
      "outputs": []
    },
    {
      "cell_type": "code",
      "source": [
        "#using a string indexer, transform the target variable into an index and fit into the dataset\n",
        "indexer = StringIndexer(inputCol = \"Transmission\", outputCol = \"Index Transmission\")\n",
        "indexed = indexer.setHandleInvalid(\"skip\").fit(data).transform(data)\n",
        "\n",
        "indexed.show()"
      ],
      "metadata": {
        "colab": {
          "base_uri": "https://localhost:8080/"
        },
        "id": "XXtdZ5TFCr-3",
        "outputId": "e7b12bc4-c853-48c7-9ec1-5e41b18fb180"
      },
      "execution_count": null,
      "outputs": [
        {
          "output_type": "stream",
          "name": "stdout",
          "text": [
            "+---------+------+-------+------------+-------+--------+-----+----+-----------+------------------+\n",
            "|    model|  Year|  Price|Transmission|Mileage|Fueltype|  Tax| mpg|Engine Size|Index Transmission|\n",
            "+---------+------+-------+------------+-------+--------+-----+----+-----------+------------------+\n",
            "|   Fiesta|2017.0|12000.0|   Automatic|15944.0|  Petrol|150.0|57.7|        1.0|               2.0|\n",
            "|    Focus|2018.0|14000.0|      Manual| 9083.0|  Petrol|150.0|57.7|        1.0|               0.0|\n",
            "|    Focus|2017.0|13000.0|      Manual|12456.0|  Petrol|150.0|57.7|        1.0|               0.0|\n",
            "|   Fiesta|2019.0|17500.0|      Manual|10460.0|  Petrol|145.0|40.3|        1.5|               0.0|\n",
            "|   Fiesta|2019.0|16500.0|   Automatic| 1482.0|  Petrol|145.0|48.7|        1.0|               2.0|\n",
            "|   Fiesta|2015.0|10500.0|      Manual|35432.0|  Petrol|145.0|47.9|        1.6|               0.0|\n",
            "|     Puma|2019.0|22500.0|      Manual| 2029.0|  Petrol|145.0|50.4|        1.0|               0.0|\n",
            "|   Fiesta|2017.0| 9000.0|      Manual|13054.0|  Petrol|145.0|54.3|        1.2|               0.0|\n",
            "|     Kuga|2019.0|25500.0|   Automatic| 6894.0|  Diesel|145.0|42.2|        2.0|               2.0|\n",
            "|    Focus|2018.0|10000.0|      Manual|48141.0|  Petrol|145.0|61.4|        1.0|               0.0|\n",
            "|   Fiesta|2018.0|11561.0|      Manual|18803.0|  Petrol|145.0|56.5|        1.0|               0.0|\n",
            "| EcoSport|2018.0|13500.0|      Manual|12065.0|  Petrol|145.0|54.3|        1.0|               0.0|\n",
            "|   Fiesta|2017.0|11000.0|      Manual|20978.0|  Petrol|  0.0|65.7|        1.0|               0.0|\n",
            "|     Kuga|2018.0|17999.0|   Semi-Auto| 9002.0|  Diesel|145.0|54.3|        2.0|               1.0|\n",
            "|     Kuga|2018.0|18999.0|   Semi-Auto| 8970.0|  Diesel|145.0|58.9|        1.5|               1.0|\n",
            "|     Kuga|2018.0|14399.0|      Manual|12810.0|  Diesel|145.0|64.2|        1.5|               0.0|\n",
            "|     Kuga|2019.0|17999.0|      Manual|10428.0|  Diesel|145.0|38.2|        2.0|               0.0|\n",
            "|     Kuga|2018.0|16899.0|      Manual|14680.0|  Diesel|145.0|54.3|        2.0|               0.0|\n",
            "|   Fiesta|2017.0|10999.0|      Manual|12427.0|  Petrol| 20.0|62.8|        1.0|               0.0|\n",
            "|   Fiesta|2019.0|12500.0|      Manual|25521.0|  Petrol|145.0|55.4|        1.0|               0.0|\n",
            "+---------+------+-------+------------+-------+--------+-----+----+-----------+------------------+\n",
            "only showing top 20 rows\n",
            "\n"
          ]
        }
      ]
    },
    {
      "cell_type": "code",
      "source": [
        "#Combining the selected independent variables to be used for the analysis and putting them in a single variables called \"feauture\"\n",
        "assembler = VectorAssembler(inputCols=[\"Price\", \"Tax\", \"mpg\",\"Engine Size\"], outputCol = \"features\")"
      ],
      "metadata": {
        "id": "KhYhxAr7Blm5"
      },
      "execution_count": null,
      "outputs": []
    },
    {
      "cell_type": "code",
      "source": [
        "#Transform the vector assembled data based on the indexed data\n",
        "output = assembler.transform(indexed)"
      ],
      "metadata": {
        "id": "uWStaP2fCg_3"
      },
      "execution_count": null,
      "outputs": []
    },
    {
      "cell_type": "code",
      "source": [
        "#Creating a model that selects just the feature variable and the target variable\n",
        "model_data = output.select(\"features\", \"Index Transmission\")\n",
        "\n",
        "model_data.show()"
      ],
      "metadata": {
        "colab": {
          "base_uri": "https://localhost:8080/"
        },
        "id": "_LHMFffIC84Z",
        "outputId": "9371d36c-d9da-44cd-bc36-63b730185d89"
      },
      "execution_count": null,
      "outputs": [
        {
          "output_type": "stream",
          "name": "stdout",
          "text": [
            "+--------------------+------------------+\n",
            "|            features|Index Transmission|\n",
            "+--------------------+------------------+\n",
            "|[12000.0,150.0,57...|               2.0|\n",
            "|[14000.0,150.0,57...|               0.0|\n",
            "|[13000.0,150.0,57...|               0.0|\n",
            "|[17500.0,145.0,40...|               0.0|\n",
            "|[16500.0,145.0,48...|               2.0|\n",
            "|[10500.0,145.0,47...|               0.0|\n",
            "|[22500.0,145.0,50...|               0.0|\n",
            "|[9000.0,145.0,54....|               0.0|\n",
            "|[25500.0,145.0,42...|               2.0|\n",
            "|[10000.0,145.0,61...|               0.0|\n",
            "|[11561.0,145.0,56...|               0.0|\n",
            "|[13500.0,145.0,54...|               0.0|\n",
            "|[11000.0,0.0,65.7...|               0.0|\n",
            "|[17999.0,145.0,54...|               1.0|\n",
            "|[18999.0,145.0,58...|               1.0|\n",
            "|[14399.0,145.0,64...|               0.0|\n",
            "|[17999.0,145.0,38...|               0.0|\n",
            "|[16899.0,145.0,54...|               0.0|\n",
            "|[10999.0,20.0,62....|               0.0|\n",
            "|[12500.0,145.0,55...|               0.0|\n",
            "+--------------------+------------------+\n",
            "only showing top 20 rows\n",
            "\n"
          ]
        }
      ]
    },
    {
      "cell_type": "code",
      "source": [
        "#Create a test and train data based on a random split of the model data\n",
        "trainingData, testData = model_data.randomSplit([0.7, 0.3])"
      ],
      "metadata": {
        "id": "PEyVhpxADihy"
      },
      "execution_count": null,
      "outputs": []
    },
    {
      "cell_type": "code",
      "source": [
        "dtModel = DecisionTreeClassifier(labelCol=\"Index Transmission\").fit(trainingData)"
      ],
      "metadata": {
        "id": "o1B_o71JDjUs"
      },
      "execution_count": null,
      "outputs": []
    },
    {
      "cell_type": "code",
      "source": [
        "dtPredictions = dtModel.transform(testData)\n",
        "\n",
        "dtPredictions.show()"
      ],
      "metadata": {
        "colab": {
          "base_uri": "https://localhost:8080/"
        },
        "id": "wHoq_cwODukN",
        "outputId": "f70535e9-d4c9-41d5-cc56-e597c14b0d20"
      },
      "execution_count": null,
      "outputs": [
        {
          "output_type": "stream",
          "name": "stdout",
          "text": [
            "+--------------------+------------------+--------------------+--------------------+----------+\n",
            "|            features|Index Transmission|       rawPrediction|         probability|prediction|\n",
            "+--------------------+------------------+--------------------+--------------------+----------+\n",
            "|[450.0,235.0,40.4...|               0.0| [49.0,9.0,41.0,0.0]|[0.49494949494949...|       0.0|\n",
            "|[590.0,160.0,44.8...|               0.0|[17301.0,634.0,87...|[0.91982561539688...|       0.0|\n",
            "|[675.0,260.0,36.2...|               0.0|[4893.0,1334.0,17...|[0.61454408440090...|       0.0|\n",
            "|[850.0,145.0,54.3...|               0.0|[17301.0,634.0,87...|[0.91982561539688...|       0.0|\n",
            "|[850.0,195.0,43.5...|               0.0|[17301.0,634.0,87...|[0.91982561539688...|       0.0|\n",
            "|[995.0,200.0,42.8...|               0.0|[17301.0,634.0,87...|[0.91982561539688...|       0.0|\n",
            "|[1000.0,145.0,48....|               0.0|[17301.0,634.0,87...|[0.91982561539688...|       0.0|\n",
            "|[1000.0,145.0,56....|               0.0|[17301.0,634.0,87...|[0.91982561539688...|       0.0|\n",
            "|[1095.0,200.0,43....|               0.0|[17301.0,634.0,87...|[0.91982561539688...|       0.0|\n",
            "|[1200.0,200.0,47....|               0.0|[4893.0,1334.0,17...|[0.61454408440090...|       0.0|\n",
            "|[1200.0,245.0,31....|               2.0|[162.0,282.0,723....|[0.13881748071979...|       2.0|\n",
            "|[1240.0,165.0,47....|               0.0|[17301.0,634.0,87...|[0.91982561539688...|       0.0|\n",
            "|[1290.0,150.0,54....|               0.0|[4893.0,1334.0,17...|[0.61454408440090...|       0.0|\n",
            "|[1295.0,185.0,48....|               0.0|[4893.0,1334.0,17...|[0.61454408440090...|       0.0|\n",
            "|[1295.0,200.0,43....|               0.0|[17301.0,634.0,87...|[0.91982561539688...|       0.0|\n",
            "|[1299.0,30.0,62.8...|               0.0|[17301.0,634.0,87...|[0.91982561539688...|       0.0|\n",
            "|[1299.0,200.0,47....|               0.0|[4893.0,1334.0,17...|[0.61454408440090...|       0.0|\n",
            "|[1299.0,260.0,35....|               0.0| [49.0,9.0,41.0,0.0]|[0.49494949494949...|       0.0|\n",
            "|[1300.0,260.0,40....|               0.0|[17301.0,634.0,87...|[0.91982561539688...|       0.0|\n",
            "|[1350.0,235.0,38....|               0.0| [49.0,9.0,41.0,0.0]|[0.49494949494949...|       0.0|\n",
            "+--------------------+------------------+--------------------+--------------------+----------+\n",
            "only showing top 20 rows\n",
            "\n"
          ]
        }
      ]
    },
    {
      "cell_type": "code",
      "source": [
        "evaluator = MulticlassClassificationEvaluator(labelCol = \"Index Transmission\", metricName = \"accuracy\")\n",
        "\n",
        "accuracy = evaluator.evaluate(dtPredictions)\n",
        "accuracy"
      ],
      "metadata": {
        "colab": {
          "base_uri": "https://localhost:8080/"
        },
        "id": "EqB3EzzrD4at",
        "outputId": "f0e2098a-35a8-440d-d60a-165fd133ec32"
      },
      "execution_count": null,
      "outputs": [
        {
          "output_type": "execute_result",
          "data": {
            "text/plain": [
              "0.7038645245332176"
            ]
          },
          "metadata": {},
          "execution_count": 32
        }
      ]
    },
    {
      "cell_type": "code",
      "source": [
        "precision = MulticlassClassificationEvaluator(labelCol = \"Index Transmission\", metricName = 'weightedPrecision').evaluate(dtPredictions)\n",
        "precision"
      ],
      "metadata": {
        "colab": {
          "base_uri": "https://localhost:8080/"
        },
        "id": "EpM9PvxhD7kU",
        "outputId": "177ce15b-56ba-466c-86df-122b61a8462b"
      },
      "execution_count": null,
      "outputs": [
        {
          "output_type": "execute_result",
          "data": {
            "text/plain": [
              "0.7127043395895822"
            ]
          },
          "metadata": {},
          "execution_count": 33
        }
      ]
    }
  ]
}